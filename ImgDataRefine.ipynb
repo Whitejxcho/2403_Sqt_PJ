{
 "cells": [
  {
   "cell_type": "code",
   "execution_count": null,
   "id": "625cb156-0d09-4f14-bdd1-dd0f26f37ded",
   "metadata": {},
   "outputs": [],
   "source": []
  },
  {
   "cell_type": "markdown",
   "id": "77be6aad-2c1a-4ab5-a697-c01188fc2671",
   "metadata": {},
   "source": [
    "## 파일에 있는 모든 이미지의 배경 제거"
   ]
  },
  {
   "cell_type": "code",
   "execution_count": null,
   "id": "fd9883bc-a7d6-4638-9e28-be0d1df6552c",
   "metadata": {},
   "outputs": [],
   "source": [
    "from rembg import remove\n",
    "import cv2\n",
    "import numpy as np\n",
    "from PIL import Image\n",
    "import io\n",
    "import os\n",
    "\n",
    "# 입력 이미지 폴더 및 결과 이미지 폴더 경로\n",
    "input_folder_path = 'sqt/sqt_0301/squat_1_image'\n",
    "output_folder_path = 'sqt/0305_NoBG/1'\n",
    "\n",
    "# 결과 이미지 폴더가 없으면 생성\n",
    "if not os.path.exists(output_folder_path):\n",
    "    os.makedirs(output_folder_path)\n",
    "\n",
    "# 입력 폴더 내의 모든 이미지 파일에 대해 반복\n",
    "for image_file in os.listdir(input_folder_path):\n",
    "    # 파일 확장자 확인 (.jpg, .png 등 이미지 파일인 경우에만 진행)\n",
    "    if image_file.lower().endswith(('.png', '.jpg', '.jpeg')):\n",
    "        input_image_path = os.path.join(input_folder_path, image_file)\n",
    "        output_image_path = os.path.join(output_folder_path, image_file)\n",
    "        \n",
    "        # 이미지를 읽고 배경을 제거합니다.\n",
    "        with open(input_image_path, 'rb') as i:\n",
    "            input_image = i.read()\n",
    "            output_image = remove(input_image)\n",
    "        \n",
    "        # 결과 이미지를 저장합니다.\n",
    "        with open(output_image_path, 'wb') as o:\n",
    "            o.write(output_image)\n",
    "\n",
    "print(\"Background removal completed for all images.\")\n"
   ]
  },
  {
   "cell_type": "code",
   "execution_count": null,
   "id": "a078415a-0d1e-41aa-b921-4b68a37b78e3",
   "metadata": {},
   "outputs": [],
   "source": []
  },
  {
   "cell_type": "markdown",
   "id": "fe68c200-a2da-41a9-b47b-52b6973ef25e",
   "metadata": {},
   "source": [
    "## 이미지 파일 이름 재설정\n",
    "### 모델을 실행할 때 utf-8 문제 해결을 위함"
   ]
  },
  {
   "cell_type": "code",
   "execution_count": null,
   "id": "4dbc784a-50c7-4977-8aff-70735766b87e",
   "metadata": {},
   "outputs": [],
   "source": [
    "import os\n",
    "\n",
    "# 파일이 위치한 디렉토리\n",
    "directory = 'squat_240222_2100/squat_1_image'\n",
    "\n",
    "# 파일 이름 변경을 위한 카운터\n",
    "file_number = 1\n",
    "\n",
    "# 디렉토리 내의 모든 파일에 대해 반복\n",
    "for filename in os.listdir(directory):\n",
    "    # 파일의 전체 경로 구성\n",
    "    old_file = os.path.join(directory, filename)\n",
    "    \n",
    "    # 새 파일명 생성\n",
    "    new_file = os.path.join(directory, f\"1_{file_number}.jpg\")\n",
    "    \n",
    "    # 파일 이름 변경\n",
    "    os.rename(old_file, new_file)\n",
    "    \n",
    "    # 파일 번호 증가\n",
    "    file_number += 1\n",
    "\n",
    "print(\"모든 파일이 변경되었습니다.\")"
   ]
  },
  {
   "cell_type": "code",
   "execution_count": null,
   "id": "7c7be89f-3ce8-4030-b0a7-edef2256ca07",
   "metadata": {},
   "outputs": [],
   "source": []
  },
  {
   "cell_type": "code",
   "execution_count": null,
   "id": "aad70882-821a-4925-ab21-a706d5f21b10",
   "metadata": {},
   "outputs": [],
   "source": []
  },
  {
   "cell_type": "markdown",
   "id": "3a3456f3-5209-4a41-bcac-e1f6bb6df260",
   "metadata": {},
   "source": [
    "### frame 단위로 찍힌 이미지가 저장된 폴더 경로까지 설정하여 그 폴더에 이미지가 바로바로 저장되도록 저장. 20초가 지나면 꺼짐."
   ]
  },
  {
   "cell_type": "code",
   "execution_count": null,
   "id": "70fce8cf-fe9f-4806-8d3b-61c96732c47d",
   "metadata": {},
   "outputs": [],
   "source": [
    "import cv2\n",
    "import mediapipe as mp\n",
    "import numpy as np\n",
    "import os\n",
    "import time\n",
    "\n",
    "mp_drawing = mp.solutions.drawing_utils\n",
    "mp_pose = mp.solutions.pose\n",
    "\n",
    "webcam = cv2.VideoCapture(0)\n",
    "save_path = \"saved_images1\"\n",
    "if not os.path.exists(save_path):\n",
    "    os.makedirs(save_path)\n",
    "    \n",
    "image_num = 0\n",
    "\n",
    "start_time = time.time()\n",
    "\n",
    "with mp_pose.Pose(min_detection_confidence=0.5, min_tracking_confidence=0.5) as pose:\n",
    "    while webcam.isOpened():\n",
    "        ret, frame = webcam.read()\n",
    "        \n",
    "        if not ret :\n",
    "            print(\"Ignoring empty camera frame.\")\n",
    "            continue\n",
    "        \n",
    "        elapsed_time = time.time() - start_time\n",
    "        if elapsed_time > 20:\n",
    "            break\n",
    "        \n",
    "        \n",
    "        image = cv2.cvtColor(frame, cv2.COLOR_BGR2RGB)\n",
    "        image.flags.writeable = False\n",
    "        results = pose.process(image)\n",
    "        \n",
    "        image.flags.writeable = True\n",
    "        image = cv2.cvtColor(image, cv2.COLOR_RGB2BGR)\n",
    "        \n",
    "        \n",
    "        mp_drawing.draw_landmarks(image, results.pose_landmarks, mp_pose.POSE_CONNECTIONS,\n",
    "                                  mp_drawing.DrawingSpec(color=(245,117,66), thickness=2, circle_radius=2),\n",
    "                                  mp_drawing.DrawingSpec(color=(245,66,230), thickness=2, circle_radius=2))\n",
    "            \n",
    "        cv2.imshow('Mediapipe Feed', image)\n",
    "        cv2.imwrite(os.path.join(save_path, f'image_{image_num:04d}.jpg'), image)\n",
    "        image_num += 1\n",
    "        if cv2.waitKey(10) & 0xFF == ord('q'):\n",
    "            break\n",
    "\n",
    "    webcam.release()\n",
    "    cv2.destroyAllWindows()"
   ]
  },
  {
   "cell_type": "code",
   "execution_count": null,
   "id": "9ba00995-5fe0-4a22-a17a-599e45988c3a",
   "metadata": {},
   "outputs": [],
   "source": []
  },
  {
   "cell_type": "code",
   "execution_count": null,
   "id": "f67f0003-6966-4ae9-8934-ef27d6988518",
   "metadata": {},
   "outputs": [],
   "source": []
  }
 ],
 "metadata": {
  "kernelspec": {
   "display_name": "Python 3 (ipykernel)",
   "language": "python",
   "name": "python3"
  },
  "language_info": {
   "codemirror_mode": {
    "name": "ipython",
    "version": 3
   },
   "file_extension": ".py",
   "mimetype": "text/x-python",
   "name": "python",
   "nbconvert_exporter": "python",
   "pygments_lexer": "ipython3",
   "version": "3.11.5"
  }
 },
 "nbformat": 4,
 "nbformat_minor": 5
}
